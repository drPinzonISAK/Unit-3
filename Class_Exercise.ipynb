{
  "nbformat": 4,
  "nbformat_minor": 0,
  "metadata": {
    "colab": {
      "name": "Class Exercise",
      "provenance": [],
      "authorship_tag": "ABX9TyNgNlSJjxoimwVGmOmUIv2V",
      "include_colab_link": true
    },
    "kernelspec": {
      "name": "python3",
      "display_name": "Python 3"
    }
  },
  "cells": [
    {
      "cell_type": "markdown",
      "metadata": {
        "id": "view-in-github",
        "colab_type": "text"
      },
      "source": [
        "<a href=\"https://colab.research.google.com/github/drPinzonISAK/Unit-3/blob/master/Class_Exercise.ipynb\" target=\"_parent\"><img src=\"https://colab.research.google.com/assets/colab-badge.svg\" alt=\"Open In Colab\"/></a>"
      ]
    },
    {
      "cell_type": "code",
      "metadata": {
        "id": "IqmpBJWykFws"
      },
      "source": [
        ""
      ],
      "execution_count": null,
      "outputs": []
    },
    {
      "cell_type": "markdown",
      "metadata": {
        "id": "Okv_v4WukVzB"
      },
      "source": [
        "# Class Exercise\n",
        "\n",
        "Context: A bike rental store provides bikes to customers. "
      ]
    },
    {
      "cell_type": "code",
      "metadata": {
        "id": "b2AmnayIkdbW"
      },
      "source": [
        "class Motorcycle():\n",
        "  #constructor:here the attributes are define\n",
        "  def __init__(self):\n",
        "    self.fuel_tank_cap = 0\n",
        "    self.fuel_level = 0\n",
        "    self.engine_size = 0\n",
        "\n",
        "  def get_fuel_level(self):\n",
        "    return self.fuel_level\n",
        "    \n",
        "\n"
      ],
      "execution_count": 1,
      "outputs": []
    },
    {
      "cell_type": "code",
      "metadata": {
        "colab": {
          "base_uri": "https://localhost:8080/"
        },
        "id": "h3GbWfD2ljkq",
        "outputId": "459ffb56-98a1-4a45-86c6-b2b689253918"
      },
      "source": [
        "# Create an object of the class Motorcyle\n",
        "bike_1 = Motorcycle()\n",
        "print(bike_1.get_fuel_level())"
      ],
      "execution_count": 2,
      "outputs": [
        {
          "output_type": "stream",
          "text": [
            "0\n"
          ],
          "name": "stdout"
        }
      ]
    }
  ]
}